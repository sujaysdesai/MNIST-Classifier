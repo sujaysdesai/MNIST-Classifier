{
 "cells": [
  {
   "cell_type": "markdown",
   "metadata": {},
   "source": [
    "# Deep Neural Network for MNIST Classification\n",
    "\n",
    "The dataset is called MNIST and refers to handwritten digit recognition. It provides 70,000 images (28x28 pixels) of handwritten digits (1 digit per image). \n",
    "\n",
    "The goal is to write an algorithm that detects which digit is written. Since there are only 10 digits (0, 1, 2, 3, 4, 5, 6, 7, 8, 9), this is a classification problem with 10 classes. \n",
    "\n",
    "Each photo is 28 pixels x 28 pixels, or 784 total pixels. We can think about the problem as a 28x28 matrix, where input values range from 0 to 255, corresponding to the intensity of the color of that pixel.\n",
    "\n",
    "Without using CNNs, the approach for deep feedforward neural networks is to \"flatten\" each image into a vector of length 784 x 1. Therefore, for each image, we would have 784 inputs. "
   ]
  },
  {
   "cell_type": "markdown",
   "metadata": {},
   "source": [
    "## Import the relevant packages"
   ]
  },
  {
   "cell_type": "code",
   "execution_count": 1,
   "metadata": {},
   "outputs": [],
   "source": [
    "import numpy as np\n",
    "import tensorflow as tf\n",
    "# tfds has a large number of datasets ready for modeling\n",
    "import tensorflow_datasets as tfds"
   ]
  },
  {
   "cell_type": "markdown",
   "metadata": {},
   "source": [
    "## Load and Preprocess Data"
   ]
  },
  {
   "cell_type": "markdown",
   "metadata": {},
   "source": [
    "### Load Data"
   ]
  },
  {
   "cell_type": "code",
   "execution_count": 2,
   "metadata": {},
   "outputs": [],
   "source": [
    "# tfds.load actually loads a dataset (or downloads and then loads if that's the first time you use it) \n",
    "# In our case, we are interested in the MNIST; the name of the dataset is the only mandatory argument\n",
    "mnist_dataset, mnist_info = tfds.load(name='mnist', with_info=True, as_supervised=True)"
   ]
  },
  {
   "cell_type": "markdown",
   "metadata": {},
   "source": [
    "- with_info=True will also provide us with a tuple containing information about the version, features, number of samples\n",
    "- as_supervised=True will load the dataset in a 2-tuple structure (input, target) \n",
    "- Alternatively, as_supervised=False, would return a dictionary, but we prefer to have our inputs and targets separated \n"
   ]
  },
  {
   "cell_type": "markdown",
   "metadata": {},
   "source": [
    "### Split the dataset\n",
    "Once we have loaded the dataset, we can extract the training and testing dataset with the built references. By default, TensorFlow (TF) has training and testing datasets, but no validation sets. Thus, we must split it on our own."
   ]
  },
  {
   "cell_type": "code",
   "execution_count": 3,
   "metadata": {},
   "outputs": [],
   "source": [
    "mnist_train, mnist_test = mnist_dataset['train'], mnist_dataset['test']\n",
    "\n",
    "# Define the number of validation samples as a % of the train samples\n",
    "# Use mnist_info (so we don't have to count the observations)\n",
    "num_validation_samples = 0.1 * mnist_info.splits['train'].num_examples\n",
    "# Cast this number to an integer, as a float may cause an error along the way\n",
    "num_validation_samples = tf.cast(num_validation_samples, tf.int64)\n",
    "\n",
    "# Store the number of test samples in a dedicated variable (instead of using the mnist_info one)\n",
    "num_test_samples = mnist_info.splits['test'].num_examples\n",
    "# Again, we'd prefer an integer (rather than the default float)\n",
    "num_test_samples = tf.cast(num_test_samples, tf.int64)"
   ]
  },
  {
   "cell_type": "markdown",
   "metadata": {},
   "source": [
    "### Scale the data\n",
    "Normally, we would like to scale our data in some way to make the result more numerically stable. In this case we will simply prefer to have inputs between 0 and 1."
   ]
  },
  {
   "cell_type": "code",
   "execution_count": 4,
   "metadata": {},
   "outputs": [],
   "source": [
    "# Define a function called: scale, that will take an MNIST image and its label\n",
    "def scale(image, label):\n",
    "    # Make sure the value is a float\n",
    "    image = tf.cast(image, tf.float32)\n",
    "    # Since the possible values for the inputs are 0 to 255 (256 different shades of grey)\n",
    "    # If we divide each element by 255, we would get the desired result => all elements will be between 0 and 1 \n",
    "    image /= 255.\n",
    "    return image, label\n",
    "\n",
    "# The method .map() allows us to apply a custom transformation to a given dataset\n",
    "# Get the validation data from mnist_train\n",
    "scaled_train_and_validation_data = mnist_train.map(scale)\n",
    "\n",
    "# Finally, scale and batch the test data\n",
    "# Scale it so it has the same magnitude as the train and validation\n",
    "# There is no need to shuffle it, because we won't be training on the test data\n",
    "# There would be a single batch, equal to the size of the test data\n",
    "test_data = mnist_test.map(scale)"
   ]
  },
  {
   "cell_type": "markdown",
   "metadata": {},
   "source": [
    "### Shuffle the data\n",
    "We shuffle in case the data is ordered in a certain way. Imagine the data is ordered and we have 10 batches. Each batch contains only a given digit. This will confuse the stochastic gradient descent (SGD) algorithm because each batch is homogenous within itself but completely different from all other batches, causing the loss to differ greatly. Since we are batching, we should shuffle the data to make it as randomly spread as possible."
   ]
  },
  {
   "cell_type": "code",
   "execution_count": 5,
   "metadata": {},
   "outputs": [],
   "source": [
    "# This BUFFER_SIZE parameter is for cases when we're dealing with enormous datasets\n",
    "# Then we can't shuffle the whole dataset in one go because we can't fit it all in memory\n",
    "# So instead TF only stores BUFFER_SIZE samples in memory at a time and shuffles them\n",
    "# if (BUFFER_SIZE=1) => no shuffling will actually happen\n",
    "# if (BUFFER_SIZE >= num samples) => shuffling is uniform (will happen all at once)\n",
    "# BUFFER_SIZE in between - a computational optimization to approximate uniform shuffling\n",
    "BUFFER_SIZE = 10000\n",
    "\n",
    "# We can use the shuffle method and specify the buffer size\n",
    "shuffled_train_and_validation_data = scaled_train_and_validation_data.shuffle(BUFFER_SIZE)"
   ]
  },
  {
   "cell_type": "markdown",
   "metadata": {},
   "source": [
    "### Extract training and validation data\n",
    "Once we have scaled and shuffled the data, we can proceed to actually extracting the train and validation portions. Our validation data would be equal to 10% of the training set, which we've already calculated.\n",
    "\n",
    "We will be using mini-batch gradient descent to train our model, which is the most efficient way to perform deep learning, as the tradeoff between accuracy and speed is optimal. Therefore, we must set a batch size and prepare our data for batching.\n",
    "\n",
    "Batch size = 1 = Stochastic gradient descent (SGD)\n",
    "\n",
    "Batch size = # samples = (single batch) GD\n",
    "\n",
    "1 < batch size < # samples = (mini-batch) GD\n",
    "\n",
    "So, we want a number for the batch size that is relatively small compared to the dataset, but reasonably high as to allow us to preserve the underlying dependencies.\n",
    "\n",
    "Since we will only be forward propagating and not back propagating on the validation data, we do not need to batch it. Batching is useful in updating weights only once per batch rather than at every sample, hence reducing noise in the training updates. This way, we find an average loss and accuracy per batch. However, during validation and testing, we want the exact loss and accuracy, so we should take all of the values at once. Moreover, when forward propagating, we don't use that much computational power so it's not expensive to calculate the exact values. However, the model expects the data in batch form too. "
   ]
  },
  {
   "cell_type": "code",
   "execution_count": 6,
   "metadata": {},
   "outputs": [],
   "source": [
    "# Use the .take() method to take that many samples\n",
    "# Finally, create a batch with a batch size equal to the total number of validation samples\n",
    "validation_data = shuffled_train_and_validation_data.take(num_validation_samples)\n",
    "\n",
    "# Similarly, the train_data is everything else, so skip as many samples as there are in the validation dataset\n",
    "train_data = shuffled_train_and_validation_data.skip(num_validation_samples)\n",
    "\n",
    "# Determine the batch size\n",
    "BATCH_SIZE = 150\n",
    "\n",
    "# Batch the train data\n",
    "# This will be very helpful when we train, as we will be able to iterate over the different batches\n",
    "train_data = train_data.batch(BATCH_SIZE)\n",
    "\n",
    "# We will have a single batch with a batch size equal to the total # of validation samples\n",
    "# This way, the model takes the whole validation dataset at once\n",
    "validation_data = validation_data.batch(num_validation_samples)\n",
    "\n",
    "# Batch the test data in the same way as the validation dataset\n",
    "test_data = test_data.batch(num_test_samples)\n",
    "\n",
    "# Our validation data must have the same shape and object properties as the train and test data\n",
    "# The MNIST data is iterable and in 2-tuple format\n",
    "# Therefore, we must extract and convert the validation inputs and targets accordingly\n",
    "# Takes next batch (it is the only batch)\n",
    "# Because as_supervized=True, we've got a 2-tuple structure\n",
    "validation_inputs, validation_targets = next(iter(validation_data))"
   ]
  },
  {
   "cell_type": "markdown",
   "metadata": {},
   "source": [
    "## Model"
   ]
  },
  {
   "cell_type": "markdown",
   "metadata": {},
   "source": [
    "### Outline the model\n",
    "We have 784 inputs in our input layer. We combine them and add a nonlinearity to get our first hidden layer. 2 hidden layers with 50 nodes each is enough to achieve x% accuracy but we will try to see if we can do better.\n",
    "\n",
    "There are 10 digits => 10 classes => 10 output units."
   ]
  },
  {
   "cell_type": "code",
   "execution_count": 7,
   "metadata": {},
   "outputs": [],
   "source": [
    "input_size = 784\n",
    "output_size = 10\n",
    "# Use same hidden layer size for both hidden layers. Not a necessity.\n",
    "hidden_layer_size = 5000\n",
    "    \n",
    "# Define how the model will look\n",
    "model = tf.keras.Sequential([\n",
    "    \n",
    "    # The first layer (the input layer)\n",
    "    # Each observation is 28x28x1 pixels, therefore it is a tensor of rank 3\n",
    "    # Flatten the images\n",
    "    # The 'Flatten' method takes our 28x28x1 tensor and orders it into a (None,) or (28x28x1,) = (784,) vector\n",
    "    # This allows us to actually create a feed forward neural network\n",
    "    tf.keras.layers.Flatten(input_shape=(28, 28, 1)), # input layer\n",
    "    \n",
    "    # tf.keras.layers.Dense is basically implementing: output = activation(dot(input, weight) + bias)\n",
    "    # Tt takes several arguments, but the most important ones for us are the hidden_layer_size and the activation function\n",
    "    tf.keras.layers.Dense(hidden_layer_size, activation='relu'), # 1st hidden layer\n",
    "    tf.keras.layers.Dense(hidden_layer_size, activation='relu'), # 2nd hidden layer\n",
    "    tf.keras.layers.Dense(hidden_layer_size, activation='relu'), # 3rd hidden layer\n",
    "    tf.keras.layers.Dense(hidden_layer_size, activation='relu'), # 4th hidden layer\n",
    "    tf.keras.layers.Dense(hidden_layer_size, activation='relu'), # 5th hidden layer\n",
    "    tf.keras.layers.Dense(hidden_layer_size, activation='relu'), # 6th hidden layer\n",
    "    tf.keras.layers.Dense(hidden_layer_size, activation='relu'), # 7th hidden layer\n",
    "    tf.keras.layers.Dense(hidden_layer_size, activation='relu'), # 8th hidden layer\n",
    "    tf.keras.layers.Dense(hidden_layer_size, activation='relu'), # 9th hidden layer\n",
    "    tf.keras.layers.Dense(hidden_layer_size, activation='relu'), # 10th hidden layer\n",
    "    \n",
    "    # The final layer is no different, we just make sure to activate it with softmax\n",
    "    tf.keras.layers.Dense(output_size, activation='softmax') # output layer\n",
    "])"
   ]
  },
  {
   "cell_type": "markdown",
   "metadata": {},
   "source": [
    "We provide the inputs from the input layer to the model and calculate the dot product of the inputs and the weights and add the bias, as well as apply the ReLu  activation function.\n",
    "\n",
    "The outputs will be compared to the targets. One-hot encoding will be used for both the outputs and the targets. When creating a classifier, we would like to see the probability of a digit being rightfully labeled, so we will use a softmax activation function for the output layer."
   ]
  },
  {
   "cell_type": "markdown",
   "metadata": {},
   "source": [
    "### Choose the optimizer and the loss function\n",
    "We define the optimizer we'd like to use, the loss function, and the metrics we are interested in obtaining at each iteration.\n",
    "\n",
    "One of the best choices we have for the optimizer is the adaptive moment estimation (Adam).\n",
    "\n",
    "We would like to employ a loss function that is used for classifiers. Using sparse_categorical_crossentropy applies one-hot encoding to the data, which we did not do as a preprocessing step. The output and target layer should have matching forms. Our model and optimizer expect the output shape to match the target shape in a one-hot encoded format."
   ]
  },
  {
   "cell_type": "code",
   "execution_count": 8,
   "metadata": {},
   "outputs": [],
   "source": [
    "model.compile(optimizer='adam', loss='sparse_categorical_crossentropy', metrics=['accuracy'])"
   ]
  },
  {
   "cell_type": "markdown",
   "metadata": {},
   "source": [
    "### Training\n",
    "Train the model we have built. At each epoch, we will validate. Within each epoch:\n",
    "1. At the beginning of the epoch, the training loss will be set to 0.\n",
    "2. The algorithm will iterate over a preset number of batches, all from the training set.\n",
    "3. The weights and biases will be updated as many times as there are batches.\n",
    "4. We will get a value for the loss function, indicating how the training is going.\n",
    "5. We will also see a training accuracy.\n",
    "6. At the end of the epoch, the algorithm will forward propagate the whole validation set and calculate the validation accuracy.\n",
    "\n",
    "When we reach the max num of epochs, the training will be over."
   ]
  },
  {
   "cell_type": "code",
   "execution_count": 9,
   "metadata": {
    "scrolled": true
   },
   "outputs": [
    {
     "name": "stdout",
     "output_type": "stream",
     "text": [
      "Epoch 1/10\n",
      "360/360 - 837s - loss: 1.1751 - accuracy: 0.5719 - val_loss: 0.4082 - val_accuracy: 0.8422\n",
      "Epoch 2/10\n",
      "360/360 - 1011s - loss: 0.3195 - accuracy: 0.9209 - val_loss: 0.2415 - val_accuracy: 0.9592\n",
      "Epoch 3/10\n",
      "360/360 - 915s - loss: 0.2226 - accuracy: 0.9507 - val_loss: 0.1505 - val_accuracy: 0.9673\n",
      "Epoch 4/10\n",
      "360/360 - 838s - loss: 0.1544 - accuracy: 0.9664 - val_loss: 0.2151 - val_accuracy: 0.9593\n",
      "Epoch 5/10\n",
      "360/360 - 962s - loss: 0.2175 - accuracy: 0.9537 - val_loss: 0.1260 - val_accuracy: 0.9712\n",
      "Epoch 6/10\n",
      "360/360 - 991s - loss: 0.1172 - accuracy: 0.9735 - val_loss: 0.1568 - val_accuracy: 0.9723\n",
      "Epoch 7/10\n",
      "360/360 - 1006s - loss: 0.1487 - accuracy: 0.9711 - val_loss: 0.1629 - val_accuracy: 0.9625\n",
      "Epoch 8/10\n",
      "360/360 - 987s - loss: 0.1017 - accuracy: 0.9760 - val_loss: 0.1258 - val_accuracy: 0.9717\n",
      "Epoch 9/10\n",
      "360/360 - 1062s - loss: 0.0829 - accuracy: 0.9811 - val_loss: 0.1045 - val_accuracy: 0.9773\n",
      "Epoch 10/10\n",
      "360/360 - 1004s - loss: 0.0784 - accuracy: 0.9830 - val_loss: 0.0754 - val_accuracy: 0.9837\n"
     ]
    },
    {
     "data": {
      "text/plain": [
       "<tensorflow.python.keras.callbacks.History at 0x63d340690>"
      ]
     },
     "execution_count": 9,
     "metadata": {},
     "output_type": "execute_result"
    }
   ],
   "source": [
    "# Determine the maximum number of epochs\n",
    "NUM_EPOCHS = 10\n",
    "\n",
    "# We fit the model, specifying the training data, the total number of epochs,\n",
    "# and the validation data we just created in the format: (inputs,targets)\n",
    "model.fit(train_data, epochs=NUM_EPOCHS, validation_data=(validation_inputs, validation_targets), validation_steps=1, verbose =2)"
   ]
  },
  {
   "cell_type": "markdown",
   "metadata": {},
   "source": [
    "- We can see that each epoch took ~15 min to conclude.\n",
    "- Note that the training loss decreases across epochs, and it decreases less and less with each epoch.\n",
    "- Note that the training accuracy increases with each epoch, and it increases less and less with each epoch, following the same trend as the training loss, as expected.\n",
    "- The validation loss has not yet started to increase so the model is not overfitting.\n",
    "- The validation accuracy for the last epoch is ~98%, which is a great result."
   ]
  },
  {
   "cell_type": "markdown",
   "metadata": {},
   "source": [
    "## Test the model\n",
    "\n",
    "After training on the training data and validating on the validation data, we test the final prediction power of our model by running it on the test dataset that the algorithm has NEVER seen before.\n",
    "\n",
    "It is very important to realize that fiddling with the hyperparameters overfits the validation dataset. \n",
    "\n",
    "The test is the absolute final instance, so we test once we are completely done with adjusting our model. If we adjust our model after testing, we will start overfitting the test dataset, which will defeat its purpose."
   ]
  },
  {
   "cell_type": "code",
   "execution_count": 10,
   "metadata": {},
   "outputs": [
    {
     "name": "stdout",
     "output_type": "stream",
     "text": [
      "      1/Unknown - 43s 43s/step - loss: 0.1206 - accuracy: 0.9748"
     ]
    }
   ],
   "source": [
    "test_loss, test_accuracy = model.evaluate(test_data)"
   ]
  },
  {
   "cell_type": "code",
   "execution_count": 11,
   "metadata": {},
   "outputs": [
    {
     "name": "stdout",
     "output_type": "stream",
     "text": [
      "Test loss: 0.12. Test accuracy: 97.48%\n"
     ]
    }
   ],
   "source": [
    "# We can apply some nice formatting if we want to\n",
    "print('Test loss: {0:.2f}. Test accuracy: {1:.2f}%'.format(test_loss, test_accuracy*100.))"
   ]
  },
  {
   "cell_type": "markdown",
   "metadata": {},
   "source": [
    "After some fine tuning, I decided to brute-force the algorithm and created 10 hidden layers with 5000 hidden units each. \n",
    "\n",
    "    hidden_layer_size = 5000\n",
    "    batch_size = 150\n",
    "    NUM_EPOCHS = 10\n",
    "    \n",
    "All activation functions are ReLu.\n",
    "\n",
    "Due to the width and the depth of the algorithm, it took my computer 3 hours and 50 mins to train it. However, this yielded 97.5% accuracy. Since this is a percentage point below the the validation accuracy, way may have slightly overfit the model.\n",
    "\n",
    "Some of the results that leading academics achieved on the MNIST (using different methodologies) can be seen here:\n",
    "https://rodrigob.github.io/are_we_there_yet/build/classification_datasets_results\n",
    "\n",
    "The credit for building the MNIST dataset that was used goes to Yan LeCun, Corinna Cortes, and Christopher Burges."
   ]
  }
 ],
 "metadata": {
  "kernelspec": {
   "display_name": "Python [conda env:py3-TF2.0]",
   "language": "python",
   "name": "py3-tf2.0"
  },
  "language_info": {
   "codemirror_mode": {
    "name": "ipython",
    "version": 3
   },
   "file_extension": ".py",
   "mimetype": "text/x-python",
   "name": "python",
   "nbconvert_exporter": "python",
   "pygments_lexer": "ipython3",
   "version": "3.7.6"
  }
 },
 "nbformat": 4,
 "nbformat_minor": 2
}
